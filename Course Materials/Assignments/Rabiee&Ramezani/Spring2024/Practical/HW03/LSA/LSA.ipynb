{
 "cells": [
  {
   "cell_type": "markdown",
   "metadata": {},
   "source": [
    "\n",
    "<br>\n",
    "<font>\n",
    "<div dir=ltr align=center>\n",
    "<img src=\"https://cdn.freebiesupply.com/logos/large/2x/sharif-logo-png-transparent.png\" width=150 height=150> <br>\n",
    "<font color=0F5298 size=7>\n",
    "Linear Algebra <br>\n",
    "<font color=2565AE size=5>\n",
    "Computer Engineering Department <br>\n",
    "Spring 2024<br>\n",
    "<font color=3C99D size=5>\n",
    "Practical Assignment 3 - Latent Semantic Analysis <br>\n",
    "<font color=696880 size=4>\n",
    "Sina Namazi\n",
    "\n",
    "\n",
    "____"
   ]
  },
  {
   "cell_type": "markdown",
   "metadata": {},
   "source": [
    "## Personal Data\n",
    "\n",
    "Please fill in your details below to help us keep track of your submission."
   ]
  },
  {
   "cell_type": "code",
   "execution_count": null,
   "metadata": {},
   "outputs": [],
   "source": [
    "student_number = None\n",
    "first_name = None\n",
    "last_name = None\n",
    "assert student_number and first_name and last_name is not None, 'pls input your information'"
   ]
  },
  {
   "cell_type": "markdown",
   "metadata": {},
   "source": [
    "## Libraries"
   ]
  },
  {
   "cell_type": "code",
   "execution_count": 1,
   "metadata": {},
   "outputs": [],
   "source": [
    "import pandas as pd\n",
    "import numpy as np\n",
    "import re\n",
    "\n",
    "from nltk.corpus import stopwords\n",
    "from nltk.stem import WordNetLemmatizer\n",
    "\n",
    "from scipy.linalg import svd\n",
    "import matplotlib.pyplot as plt"
   ]
  },
  {
   "cell_type": "markdown",
   "metadata": {},
   "source": [
    "# Linear Algebra Homework: Latent Semantic Analysis (LSA) with Singular Value Decomposition (SVD)\n",
    "\n",
    "## Introduction\n",
    "\n",
    "Latent Semantic Analysis (LSA) is a powerful technique in natural language processing and information retrieval that helps to uncover the underlying structure in a collection of texts. By using Singular Value Decomposition (SVD), LSA transforms high-dimensional textual data into a lower-dimensional space, capturing the most important patterns in the data.\n",
    "\n",
    "### Objectives\n",
    "\n",
    "In this homework, we will explore how LSA can be used to obtain vectors for words and documents, which can then be used for various tasks such as information retrieval, clustering, and semantic analysis. We will achieve this through the following steps:\n",
    "\n",
    "1. **Preparing the Data**: We will start by gathering and preprocessing the text data to construct a term-document matrix.\n",
    "2. **Singular Value Decomposition (SVD)**: We will apply SVD to the term-document matrix to obtain the latent semantic structure.\n",
    "3. **Visualization**: Finally, we will visualize the word and document vectors to understand the relationships between them.\n",
    "\n",
    "By the end of this homework, you will have a deeper understanding of how linear algebra concepts can be applied to real-world text data and gain practical experience with implementing LSA using Python.\n",
    "\n",
    "Let's get started!\n"
   ]
  },
  {
   "cell_type": "markdown",
   "metadata": {},
   "source": [
    "## Data Preparation\n",
    "\n",
    "In this section, we will prepare our dataset for Latent Semantic Analysis (LSA). This involves loading the dataset, preprocessing the texts, and creating the term-document matrix. \n",
    "\n",
    "### 1. Loading the Dataset\n",
    "\n",
    "First, we will load a dataset of news articles along with their labels indicating whether they are relieble or not. This dataset will serve as the foundation for our analysis.\n",
    "\n",
    "### 2. Preprocessing the Texts\n",
    "\n",
    "To prepare the texts for analysis, we need to perform several preprocessing steps:\n",
    "\n",
    "- **Tokenization**: Breaking down the text into individual words or tokens.\n",
    "- **Removing Stopwords**: Filtering out common words that do not carry significant meaning (e.g., \"and\", \"the\", \"is\").\n",
    "- **Lemmatization**: Reducing words to their base or root form (e.g., \"running\" to \"run\").\n",
    "\n",
    "These steps will help us create a clean and meaningful representation of the text data.\n",
    "\n",
    "### 3. Creating the Term-Document Matrix\n",
    "\n",
    "Once the texts are preprocessed, we will construct a term-document matrix. This matrix will have terms (words) as rows and documents (texts) as columns. Each entry in the matrix will represent the frequency of a term in a document. This matrix will be the input for applying Singular Value Decomposition (SVD) in the next section.\n"
   ]
  },
  {
   "cell_type": "markdown",
   "metadata": {},
   "source": [
    "### Loading the Dataset"
   ]
  },
  {
   "cell_type": "code",
   "execution_count": 2,
   "metadata": {},
   "outputs": [
    {
     "data": {
      "text/html": [
       "<div>\n",
       "<style scoped>\n",
       "    .dataframe tbody tr th:only-of-type {\n",
       "        vertical-align: middle;\n",
       "    }\n",
       "\n",
       "    .dataframe tbody tr th {\n",
       "        vertical-align: top;\n",
       "    }\n",
       "\n",
       "    .dataframe thead th {\n",
       "        text-align: right;\n",
       "    }\n",
       "</style>\n",
       "<table border=\"1\" class=\"dataframe\">\n",
       "  <thead>\n",
       "    <tr style=\"text-align: right;\">\n",
       "      <th></th>\n",
       "      <th>text</th>\n",
       "      <th>label</th>\n",
       "    </tr>\n",
       "  </thead>\n",
       "  <tbody>\n",
       "    <tr>\n",
       "      <th>0</th>\n",
       "      <td>“For I delivered to you as of first importance...</td>\n",
       "      <td>0</td>\n",
       "    </tr>\n",
       "    <tr>\n",
       "      <th>1</th>\n",
       "      <td>WASHINGTON  —   President Trump sharply change...</td>\n",
       "      <td>0</td>\n",
       "    </tr>\n",
       "    <tr>\n",
       "      <th>2</th>\n",
       "      <td>Lightning struck twice at Baylor University’s ...</td>\n",
       "      <td>0</td>\n",
       "    </tr>\n",
       "    <tr>\n",
       "      <th>3</th>\n",
       "      <td>He did not mock. He did not scold. He did not ...</td>\n",
       "      <td>0</td>\n",
       "    </tr>\n",
       "    <tr>\n",
       "      <th>4</th>\n",
       "      <td>Three years ago, girls from the Hockey in Newa...</td>\n",
       "      <td>0</td>\n",
       "    </tr>\n",
       "  </tbody>\n",
       "</table>\n",
       "</div>"
      ],
      "text/plain": [
       "                                                text  label\n",
       "0  “For I delivered to you as of first importance...      0\n",
       "1  WASHINGTON  —   President Trump sharply change...      0\n",
       "2  Lightning struck twice at Baylor University’s ...      0\n",
       "3  He did not mock. He did not scold. He did not ...      0\n",
       "4  Three years ago, girls from the Hockey in Newa...      0"
      ]
     },
     "execution_count": 2,
     "metadata": {},
     "output_type": "execute_result"
    }
   ],
   "source": [
    "# TODO: Load the dataset\n",
    "\n",
    "# TODO: Show the first 5 rows of the dataset\n"
   ]
  },
  {
   "cell_type": "markdown",
   "metadata": {},
   "source": [
    "### Preprocessing the Texts"
   ]
  },
  {
   "cell_type": "code",
   "execution_count": 3,
   "metadata": {},
   "outputs": [
    {
     "data": {
      "text/html": [
       "<div>\n",
       "<style scoped>\n",
       "    .dataframe tbody tr th:only-of-type {\n",
       "        vertical-align: middle;\n",
       "    }\n",
       "\n",
       "    .dataframe tbody tr th {\n",
       "        vertical-align: top;\n",
       "    }\n",
       "\n",
       "    .dataframe thead th {\n",
       "        text-align: right;\n",
       "    }\n",
       "</style>\n",
       "<table border=\"1\" class=\"dataframe\">\n",
       "  <thead>\n",
       "    <tr style=\"text-align: right;\">\n",
       "      <th></th>\n",
       "      <th>text</th>\n",
       "      <th>label</th>\n",
       "    </tr>\n",
       "  </thead>\n",
       "  <tbody>\n",
       "    <tr>\n",
       "      <th>0</th>\n",
       "      <td>delivered first importance also received chris...</td>\n",
       "      <td>0</td>\n",
       "    </tr>\n",
       "    <tr>\n",
       "      <th>1</th>\n",
       "      <td>washington president trump sharply changed fed...</td>\n",
       "      <td>0</td>\n",
       "    </tr>\n",
       "    <tr>\n",
       "      <th>2</th>\n",
       "      <td>lightning struck twice baylor university renow...</td>\n",
       "      <td>0</td>\n",
       "    </tr>\n",
       "    <tr>\n",
       "      <th>3</th>\n",
       "      <td>mock scold blunder instead donald j trump show...</td>\n",
       "      <td>0</td>\n",
       "    </tr>\n",
       "    <tr>\n",
       "      <th>4</th>\n",
       "      <td>three year ago girl hockey newark youth progra...</td>\n",
       "      <td>0</td>\n",
       "    </tr>\n",
       "  </tbody>\n",
       "</table>\n",
       "</div>"
      ],
      "text/plain": [
       "                                                text  label\n",
       "0  delivered first importance also received chris...      0\n",
       "1  washington president trump sharply changed fed...      0\n",
       "2  lightning struck twice baylor university renow...      0\n",
       "3  mock scold blunder instead donald j trump show...      0\n",
       "4  three year ago girl hockey newark youth progra...      0"
      ]
     },
     "execution_count": 3,
     "metadata": {},
     "output_type": "execute_result"
    }
   ],
   "source": [
    "def preprocess_text(text):\n",
    "    \"\"\"\n",
    "    Preprocess the input text by performing tokenization, stop words removal, and lemmatization.\n",
    "\n",
    "    Args:\n",
    "        text (str): The input text to be preprocessed.\n",
    "\n",
    "    Returns:\n",
    "        str: The preprocessed text.\n",
    "    \"\"\"\n",
    "    # Initialize the WordNetLemmatizer\n",
    "    lemmatizer = WordNetLemmatizer()\n",
    "    # Convert to lowercase\n",
    "    text = text.lower()\n",
    "    # Remove special characters and numbers\n",
    "    text = re.sub(r'[^a-zA-Z\\s]', '', text)\n",
    "    # Tokenize the text\n",
    "    tokens = text.split()\n",
    "    # Remove stop words and lemmatize the tokens\n",
    "    stop_words = stopwords.words('english')\n",
    "    tokens = [lemmatizer.lemmatize(token) for token in tokens if token not in stop_words]\n",
    "    # Join the tokens back into a single string\n",
    "    preprocessed_text = ' '.join(tokens)\n",
    "    return preprocessed_text\n",
    "\n",
    "\n",
    "# TODO: Apply the preprocess_text function to the 'text' column of the DataFrame\n",
    "\n",
    "# TODO: Show the first 5 rows of the dataset\n"
   ]
  },
  {
   "cell_type": "markdown",
   "metadata": {},
   "source": [
    "### Creating the Term-Document Matrix"
   ]
  },
  {
   "cell_type": "code",
   "execution_count": 4,
   "metadata": {},
   "outputs": [],
   "source": [
    "# TODO: Create the term-document matrix"
   ]
  },
  {
   "cell_type": "markdown",
   "metadata": {},
   "source": [
    "## Applying Singular Value Decomposition (SVD)\n",
    "\n",
    "In this section, we will apply Singular Value Decomposition (SVD) to the term-document matrix to extract the latent semantic structure of the data. The right singular vectors obtained from SVD will be used as the embeddings for our documents.\n",
    "\n",
    "### Singular Value Decomposition (SVD)\n",
    "\n",
    "Singular Value Decomposition is a matrix factorization technique that decomposes a matrix $A$ into three matrices:\n",
    "\n",
    "$$\n",
    "A = U \\Sigma V^T\n",
    "$$\n",
    "\n",
    "where:\n",
    "- $U$ is an orthogonal matrix containing the left singular vectors.\n",
    "- $\\Sigma$ is a diagonal matrix containing the singular values.\n",
    "- $V^T$ is the transpose of an orthogonal matrix containing the right singular vectors.\n",
    "\n",
    "In the context of text data, the term-document matrix $A$ can be decomposed using SVD to reveal the underlying semantic structure.\n",
    "\n",
    "### Extracting Document Embeddings\n",
    "\n",
    "The right singular vectors obtained from the SVD are particularly useful for our analysis. These vectors, which are the columns of the matrix $V$, represent the documents in a reduced-dimensional semantic space. These document embeddings capture the essential features of the texts and can be used for various downstream tasks such as clustering, classification, and visualization.\n",
    "\n",
    "By applying SVD to the term-document matrix, we will obtain a set of document embeddings that can be visualized and analyzed to gain insights into the relationships between different documents.\n"
   ]
  },
  {
   "cell_type": "code",
   "execution_count": 5,
   "metadata": {},
   "outputs": [
    {
     "name": "stdout",
     "output_type": "stream",
     "text": [
      "Dimensions:\n",
      "U: (69354, 4000)\n",
      "S: (4000,)\n",
      "Vt: (4000, 4000)\n"
     ]
    }
   ],
   "source": [
    "# TODO: Perform Singular Value Decomposition (SVD) on the term-document matrix (this might take a few minutes)"
   ]
  },
  {
   "cell_type": "markdown",
   "metadata": {},
   "source": [
    "## Visualization\n",
    "\n",
    "In this section, we will visualize the document embeddings obtained from Singular Value Decomposition (SVD). By plotting the first two singular vectors, we can create a 2D scatter plot of the documents. Each document will be colored based on its respective label (reliable or unreliable) to help us visually analyze the separation between different classes.\n",
    "\n",
    "### 2D Embeddings\n",
    "\n",
    "To visualize the document embeddings, we will use the first two right singular vectors obtained from SVD. These vectors correspond to the two largest singular values and capture the most significant features of the data.\n",
    "\n",
    "### Scatter Plot\n",
    "\n",
    "We will create a scatter plot where:\n",
    "- Each point represents a document.\n",
    "- The x-coordinate of a point corresponds to its first singular vector value.\n",
    "- The y-coordinate of a point corresponds to its second singular vector value.\n",
    "- The color of each point indicates whether the document is labeled as fake news or true news.\n",
    "\n",
    "This visualization will allow us to see how well the SVD has separated the different classes of documents in a 2D space. It can also provide insights into the structure and distribution of the documents based on their latent semantic features.\n"
   ]
  },
  {
   "cell_type": "code",
   "execution_count": 6,
   "metadata": {},
   "outputs": [
    {
     "data": {
      "image/png": "[encoded data removed]",
      "text/plain": [
       "<Figure size 1000x600 with 1 Axes>"
      ]
     },
     "metadata": {},
     "output_type": "display_data"
    }
   ],
   "source": [
    "# TODO: Plot the terms in the 2D space\n"
   ]
  },
  {
   "cell_type": "markdown",
   "metadata": {},
   "source": [
    "## Conclusion\n",
    "\n",
    "In this homework, we explored the use of Latent Semantic Analysis (LSA) with Singular Value Decomposition (SVD) to obtain word and document vectors from a dataset of texts labeled as fake news or true news. We went through the steps of loading and preprocessing the data, applying SVD, and visualizing the document embeddings in a 2D space.\n",
    "\n",
    "### Answer these questions:\n",
    "\n",
    "1. **Why do you think reliable and unreliable news separated without using sample labels?**\n",
    "\n",
    "2. **What do the left singular vectors mean?**\n",
    "\n",
    "\n"
   ]
  }
 ],
 "metadata": {
  "kernelspec": {
   "display_name": "ml",
   "language": "python",
   "name": "python3"
  },
  "language_info": {
   "codemirror_mode": {
    "name": "ipython",
    "version": 3
   },
   "file_extension": ".py",
   "mimetype": "text/x-python",
   "name": "python",
   "nbconvert_exporter": "python",
   "pygments_lexer": "ipython3",
   "version": "3.12.2"
  }
 },
 "nbformat": 4,
 "nbformat_minor": 2
}
