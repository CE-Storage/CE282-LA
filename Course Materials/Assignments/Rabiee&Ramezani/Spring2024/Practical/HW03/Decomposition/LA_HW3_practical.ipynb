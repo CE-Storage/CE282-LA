{
 "cells": [
  {
   "cell_type": "markdown",
   "metadata": {
    "id": "9hhIsepSG3o2"
   },
   "source": [
    "<br>\n",
    "<font>\n",
    "<!-- <img src=\"https://cdn.freebiesupply.com/logos/large/2x/sharif-logo-png-transparent.png\" alt=\"SUT logo\" width=300 height=300 align=left class=\"saturate\"> -->\n",
    "<div dir=ltr align=center>\n",
    "<img src=\"https://cdn.freebiesupply.com/logos/large/2x/sharif-logo-png-transparent.png\" width=200 height=200>\n",
    "<br>\n",
    "<font color=0F5298 size=7>\n",
    "Linear Algebra <br>\n",
    "<font color=2565AE size=5>\n",
    "Computer Engineering Department <br>\n",
    "Spring 2024<br>\n",
    "<font color=3C99D size=5>\n",
    "Practical Assignment 3 <br>\n",
    "<font color=3C99D size=5>\n",
    "Diagonalization, Eigenvectors and Decomposition <br>\n",
    "<font color=696880 size=4>\n",
    "<!-- <br> -->\n",
    "Mahdi Alinejad - Mahan Bayhaghi\n",
    "\n",
    "____"
   ]
  },
  {
   "cell_type": "markdown",
   "metadata": {
    "id": "L_yNz5LcG3o4"
   },
   "source": [
    "\n",
    "<h3 style='color: green;'>Purpose</h3>\n",
    "In this notebook, we will explore eigenvalues and eigenvectors, and demonstrate diagonalization of a matrix. We will also compare the performance of computing matrix powers using regular methods versus diagonalization."
   ]
  },
  {
   "cell_type": "markdown",
   "metadata": {
    "id": "rrA_CrJLG3o5"
   },
   "source": [
    "<h3 style='color: green;'>Student Information</h3>"
   ]
  },
  {
   "cell_type": "code",
   "execution_count": null,
   "metadata": {
    "ExecuteTime": {
     "end_time": "2024-06-20T22:54:03.523856Z",
     "start_time": "2024-06-20T22:54:03.520893Z"
    },
    "id": "SOgJ3WAyG3o6"
   },
   "outputs": [],
   "source": [
    "student_number = 'Your Student Number'\n",
    "first_name = 'Your First Name'\n",
    "last_name = 'Your Last Name'"
   ]
  },
  {
   "cell_type": "markdown",
   "metadata": {
    "id": "badnPO4GG3o6"
   },
   "source": [
    "<h3 style='color: green;'>Imports</h3>\n",
    "import the necessary libraries."
   ]
  },
  {
   "cell_type": "code",
   "execution_count": null,
   "metadata": {
    "ExecuteTime": {
     "end_time": "2024-06-20T22:54:03.574734Z",
     "start_time": "2024-06-20T22:54:03.571360Z"
    },
    "id": "YwsqXl1ZG3o7"
   },
   "outputs": [],
   "source": [
    "import numpy as np\n",
    "from IPython.display import display, HTML\n",
    "import matplotlib.pyplot as plt\n",
    "import timeit"
   ]
  },
  {
   "cell_type": "markdown",
   "metadata": {
    "id": "1-lWTHrjG3o7"
   },
   "source": [
    "<h3 style='color: green;'>Eigenvalues and Eigenvectors</h3>\n",
    "Eigenvalues and eigenvectors are fundamental concepts in linear algebra. For a given square matrix A, if there is a non-zero vector v such that Av = λv, then λ is called the eigenvalue and v is the corresponding eigenvector."
   ]
  },
  {
   "cell_type": "markdown",
   "metadata": {
    "id": "8Pv6LVjyG3o7"
   },
   "source": [
    "<h3 style='color: green;'>Functions for Eigenvalues and Eigenvectors</h3>\n",
    "We will define functions to compute eigenvalues and eigenvectors."
   ]
  },
  {
   "cell_type": "code",
   "execution_count": null,
   "metadata": {
    "ExecuteTime": {
     "end_time": "2024-06-20T22:54:03.590103Z",
     "start_time": "2024-06-20T22:54:03.586103Z"
    },
    "id": "OPa2h3rmG3o8"
   },
   "outputs": [],
   "source": [
    "def compute_eigenvalues(A):\n",
    "    \"\"\"\n",
    "    Computes and returns a list of eigenvalues of the input matrix A.\n",
    "\n",
    "    Args:\n",
    "    A (numpy.ndarray): The input matrix for which eigenvalues are computed.\n",
    "\n",
    "    Returns:\n",
    "    eigenvalues (list): A list containing the eigenvalues of matrix A.\n",
    "    \"\"\"\n",
    "    pass\n",
    "\n",
    "def compute_eigenvector(A, eigenvalue):\n",
    "    \"\"\"\n",
    "    Computes the eigenvector corresponding to the given eigenvalue of matrix A.\n",
    "\n",
    "    Args:\n",
    "    - A (numpy.ndarray): The square matrix.\n",
    "    - eigenvalue (float or complex): The eigenvalue for which the eigenvector is computed.\n",
    "\n",
    "    Returns:\n",
    "    - eigenvector (numpy.ndarray): The eigenvector corresponding to the input eigenvalue.\n",
    "    \"\"\"\n",
    "    pass\n",
    "\n",
    "def compute_eigenvectors(A):\n",
    "    \"\"\"\n",
    "    Computes the eigenvectors of the matrix A.\n",
    "\n",
    "    Args:\n",
    "    - A (numpy.ndarray): The square matrix for which eigenvectors are computed.\n",
    "\n",
    "    Returns:\n",
    "    - eigenvectors (list of numpy.ndarray): A list containing the eigenvectors of matrix A.\n",
    "    \"\"\"\n",
    "    pass\n"
   ]
  },
  {
   "cell_type": "markdown",
   "metadata": {
    "id": "ZuE5YmroG3o9"
   },
   "source": [
    "<h3 style='color: green;'>Visualization of Vectors</h3>\n",
    "We will write a function to visualize vectors in 2D."
   ]
  },
  {
   "cell_type": "code",
   "execution_count": null,
   "metadata": {
    "ExecuteTime": {
     "end_time": "2024-06-20T22:54:03.615375Z",
     "start_time": "2024-06-20T22:54:03.611231Z"
    },
    "id": "Z-LvcCT0G3o-"
   },
   "outputs": [],
   "source": [
    "def plot_vectors(vectors, colors, labels, title):\n",
    "    plt.figure()\n",
    "    plt.axhline(0, color='gray', lw=0.5)\n",
    "    plt.axvline(0, color='gray', lw=0.5)\n",
    "    plt.grid()\n",
    "    for vector, color, label in zip(vectors, colors, labels):\n",
    "        plt.quiver(0, 0, vector[0], vector[1], angles='xy', scale_units='xy', scale=1, color=color, label=label)\n",
    "    plt.xlim(-1.5, 1.5)\n",
    "    plt.ylim(-1.5, 1.5)\n",
    "    plt.legend()\n",
    "    plt.title(title)\n",
    "    plt.show()\n"
   ]
  },
  {
   "cell_type": "markdown",
   "metadata": {
    "id": "LyDyLZdzG3o-"
   },
   "source": [
    "<h3 style='color: green;'>Example with a Random Matrix</h3>\n",
    "We will generate a random 2D matrix with two independent eigenvectors and visualize them along with a random vector. Then we apply the transformation and plot them again."
   ]
  },
  {
   "cell_type": "markdown",
   "metadata": {
    "id": "fqPc0ACbG3o-"
   },
   "source": [
    "### no need to change the below cells"
   ]
  },
  {
   "cell_type": "code",
   "execution_count": null,
   "metadata": {
    "ExecuteTime": {
     "end_time": "2024-06-20T22:54:03.630890Z",
     "start_time": "2024-06-20T22:54:03.627383Z"
    },
    "id": "Rde7P4QEG3o-"
   },
   "outputs": [],
   "source": [
    "def generate_valid_matrix():\n",
    "    while True:\n",
    "        A = np.random.rand(2, 2)\n",
    "        eigenvalues = np.linalg.eigvals(A)\n",
    "        if (np.all(np.isreal(eigenvalues)) and\n",
    "            len(set(eigenvalues)) == 2 and\n",
    "            np.all(np.abs(eigenvalues) > 0.33) and\n",
    "            np.all(np.abs(eigenvalues) < 3)):\n",
    "            return A"
   ]
  },
  {
   "cell_type": "code",
   "execution_count": null,
   "metadata": {
    "ExecuteTime": {
     "end_time": "2024-06-20T22:54:31.221389Z",
     "start_time": "2024-06-20T22:54:31.010845Z"
    },
    "id": "2P47KdsWG3o_",
    "outputId": "be6f1b56-1e55-4291-a7f0-ca227bfc6036"
   },
   "outputs": [
    {
     "data": {
      "image/png": "[encoded data removed]",
      "text/plain": [
       "<Figure size 640x480 with 1 Axes>"
      ]
     },
     "metadata": {},
     "output_type": "display_data"
    },
    {
     "data": {
      "image/png": "[encoded data removed]",
      "text/plain": [
       "<Figure size 640x480 with 1 Axes>"
      ]
     },
     "metadata": {},
     "output_type": "display_data"
    }
   ],
   "source": [
    "A = generate_valid_matrix()\n",
    "eigenvectors = compute_eigenvectors(A)\n",
    "\n",
    "random_vector = np.random.rand(2)\n",
    "\n",
    "plot_vectors([eigenvectors[:, 0], eigenvectors[:, 1], random_vector],\n",
    "             ['r', 'g', 'b'],\n",
    "             ['Eigenvector 1', 'Eigenvector 2', 'Random Vector'],\n",
    "             'Original Vectors')\n",
    "\n",
    "transformed_vectors = [A @ eigenvectors[:, 0], A @ eigenvectors[:, 1], A @ random_vector]\n",
    "\n",
    "plot_vectors(transformed_vectors,\n",
    "             ['r', 'g', 'b'],\n",
    "             ['Transformed Eigenvector 1', 'Transformed Eigenvector 2', 'Transformed Random Vector'],\n",
    "             'Transformed Vectors')"
   ]
  },
  {
   "cell_type": "markdown",
   "metadata": {
    "id": "dABxMS9wG3o_"
   },
   "source": [
    "<h3 style='color: red;'>Question</h3>\n",
    "explain this behavior of these vectors in 2D plain"
   ]
  },
  {
   "cell_type": "markdown",
   "metadata": {
    "id": "VqZQGCiSG3pA"
   },
   "source": [
    "<h3 style='color: yellow;'>Your answer</h3>\n",
    "\n",
    "# here"
   ]
  },
  {
   "cell_type": "markdown",
   "metadata": {
    "id": "CrU96CfqG3pA"
   },
   "source": [
    "<h3 style='color: green;'>Diagonalization</h3>\n",
    "Diagonalization of a matrix involves finding a matrix P and a diagonal matrix D such that A = PDP^(-1). This is possible if A has n linearly independent eigenvectors."
   ]
  },
  {
   "cell_type": "code",
   "execution_count": null,
   "metadata": {
    "ExecuteTime": {
     "end_time": "2024-06-20T22:54:03.846840Z",
     "start_time": "2024-06-20T22:54:03.841932Z"
    },
    "id": "3dS2y_22G3pA"
   },
   "outputs": [],
   "source": [
    "def diagonalize(A):\n",
    "    \"\"\"\n",
    "    Diagonalizes the square matrix A if possible using eigenvectors.\n",
    "\n",
    "    Args:\n",
    "    - A (numpy.ndarray): The square matrix to be diagonalized.\n",
    "\n",
    "    Returns:\n",
    "    - diagonal_matrix (numpy.ndarray): The diagonal matrix D such that A = PDP^-1,\n",
    "      where D is diagonal and P is the matrix of eigenvectors.\n",
    "\n",
    "    Attempts to diagonalize the input square matrix A using eigenvectors.\n",
    "    Returns the diagonal matrix D. You are allowed to use numpy.linalg.inv(P) to compute P^-1.\n",
    "    \"\"\"\n",
    "\n",
    "    pass\n"
   ]
  },
  {
   "cell_type": "markdown",
   "metadata": {
    "id": "llpLrZLcG3pA"
   },
   "source": [
    "to check your answer use the cells below"
   ]
  },
  {
   "cell_type": "code",
   "execution_count": null,
   "metadata": {
    "ExecuteTime": {
     "end_time": "2024-06-20T22:54:03.852263Z",
     "start_time": "2024-06-20T22:54:03.847850Z"
    },
    "id": "gKmDm981G3pB"
   },
   "outputs": [],
   "source": [
    "def check_diagonalization(D, A):\n",
    "    is_diagonal = np.allclose(D, np.diag(np.diagonal(D)))\n",
    "    eigenvalues_A = np.linalg.eigvals(A)\n",
    "    diagonal_entries_D = np.diagonal(D)\n",
    "    has_correct_diagonal = np.allclose(np.sort(eigenvalues_A), np.sort(diagonal_entries_D))\n",
    "    has_all_eigenvalues = set(diagonal_entries_D) >= set(eigenvalues_A)\n",
    "\n",
    "    if is_diagonal and has_correct_diagonal and has_all_eigenvalues:\n",
    "        display(HTML('<font color=\"green\">All conditions satisfied:</font> Matrix D properly diagonalizes matrix A.'))\n",
    "    else:\n",
    "        if not is_diagonal:\n",
    "            display(HTML('<font color=\"red\">Error:</font> Matrix D is not diagonal.'))\n",
    "        if not has_correct_diagonal:\n",
    "            display(HTML('<font color=\"red\">Error:</font> Diagonal entries of D are not eigenvalues of A.'))\n",
    "        if not has_all_eigenvalues:\n",
    "            display(HTML('<font color=\"red\">Error:</font> D does not include all eigenvalues of A.'))\n"
   ]
  },
  {
   "cell_type": "code",
   "execution_count": null,
   "metadata": {
    "ExecuteTime": {
     "end_time": "2024-06-20T22:54:03.858154Z",
     "start_time": "2024-06-20T22:54:03.853852Z"
    },
    "id": "rI9_28RIG3pB",
    "outputId": "2f257ac2-7028-4b5c-c57f-0423ef69f3b5"
   },
   "outputs": [
    {
     "data": {
      "text/html": [
       "<font color=\"green\">All conditions satisfied:</font> Matrix D properly diagonalizes matrix A."
      ],
      "text/plain": [
       "<IPython.core.display.HTML object>"
      ]
     },
     "metadata": {},
     "output_type": "display_data"
    }
   ],
   "source": [
    "A = generate_valid_matrix()\n",
    "\n",
    "D = ... #TODO\n",
    "\n",
    "check_diagonalization(D, A)"
   ]
  },
  {
   "cell_type": "markdown",
   "metadata": {
    "id": "F7cqr4RZG3pB"
   },
   "source": [
    "<h3 style='color: green;'>Properties of Diagonalized Matrix</h3>\n",
    "A diagonalized matrix has its eigenvalues on the diagonal. It is easier to compute powers of a diagonal matrix."
   ]
  },
  {
   "cell_type": "markdown",
   "metadata": {
    "id": "J-mkeg0rG3pD"
   },
   "source": [
    "<h3 style='color: red;'>Question</h3>\n",
    "How do you think we can speed up the process of calculating powers of a matrix by using diagonalization?"
   ]
  },
  {
   "cell_type": "markdown",
   "metadata": {
    "id": "ll0pEQQPG3pD"
   },
   "source": [
    "<h3 style='color: yellow;'>Your answer:</h3>\n",
    "\n",
    "# here"
   ]
  },
  {
   "cell_type": "markdown",
   "metadata": {
    "id": "0MfFDZNWG3pD"
   },
   "source": [
    "<h3 style='color: green;'>Performance Comparison</h3>\n",
    "We will compare the time taken to compute matrix powers using regular methods versus diagonalization."
   ]
  },
  {
   "cell_type": "markdown",
   "metadata": {
    "id": "XkskzF7lG3pD"
   },
   "source": [
    "First, we will compute the powers of a matrix using the regular method."
   ]
  },
  {
   "cell_type": "code",
   "execution_count": null,
   "metadata": {
    "ExecuteTime": {
     "end_time": "2024-06-20T22:54:03.862049Z",
     "start_time": "2024-06-20T22:54:03.858154Z"
    },
    "id": "kUUJ_6ctG3pD"
   },
   "outputs": [],
   "source": [
    "def compute_powers(A, n):\n",
    "    result = A\n",
    "    for _ in range(n-1):\n",
    "        result = result @ A\n",
    "    return result"
   ]
  },
  {
   "cell_type": "code",
   "execution_count": null,
   "metadata": {
    "ExecuteTime": {
     "end_time": "2024-06-20T22:54:03.865650Z",
     "start_time": "2024-06-20T22:54:03.863108Z"
    },
    "id": "AVuKLc6aG3pD"
   },
   "outputs": [],
   "source": [
    "n_values = range(1, 200)"
   ]
  },
  {
   "cell_type": "code",
   "execution_count": null,
   "metadata": {
    "ExecuteTime": {
     "end_time": "2024-06-20T22:54:03.910618Z",
     "start_time": "2024-06-20T22:54:03.866646Z"
    },
    "id": "yaw7gGSoG3pD"
   },
   "outputs": [],
   "source": [
    "regular_times = []\n",
    "\n",
    "for n in n_values:\n",
    "    timer = timeit.Timer(lambda: compute_powers(A, n))\n",
    "    regular_times.append(timer.timeit(number=1))"
   ]
  },
  {
   "cell_type": "markdown",
   "metadata": {
    "id": "yDFbIMA9G3pE"
   },
   "source": [
    "Next, we will use your method for calculating power of a matrix."
   ]
  },
  {
   "cell_type": "code",
   "execution_count": null,
   "metadata": {
    "ExecuteTime": {
     "end_time": "2024-06-20T22:54:03.915506Z",
     "start_time": "2024-06-20T22:54:03.911637Z"
    },
    "id": "1VmwTfB8G3pE"
   },
   "outputs": [],
   "source": [
    "def compute_powers_your_way(A, n):\n",
    "    \"\"\"\n",
    "    Computes the power of a square matrix A to the nth degree.\n",
    "\n",
    "    Args:\n",
    "    - A (numpy.ndarray): The square matrix for which powers are computed.\n",
    "    - n (int): The exponent to which A is raised.\n",
    "\n",
    "    Returns:\n",
    "    - result (numpy.ndarray): The matrix A raised to the power of n.\n",
    "\n",
    "    \"\"\"\n",
    "\n",
    "    pass"
   ]
  },
  {
   "cell_type": "code",
   "execution_count": null,
   "metadata": {
    "ExecuteTime": {
     "end_time": "2024-06-20T22:54:03.952957Z",
     "start_time": "2024-06-20T22:54:03.916022Z"
    },
    "id": "RxVs7iRZG3pE"
   },
   "outputs": [],
   "source": [
    "diagonal_times = []\n",
    "\n",
    "for n in n_values:\n",
    "    timer = timeit.Timer(lambda: compute_powers_your_way(A, n))\n",
    "    diagonal_times.append(timer.timeit(number=1))"
   ]
  },
  {
   "cell_type": "markdown",
   "metadata": {
    "id": "YBljoByjG3pF"
   },
   "source": [
    "Finally, we will plot the results to compare the performance of both methods."
   ]
  },
  {
   "cell_type": "code",
   "execution_count": null,
   "metadata": {
    "ExecuteTime": {
     "end_time": "2024-06-20T22:54:04.092221Z",
     "start_time": "2024-06-20T22:54:03.955046Z"
    },
    "id": "yzRujDBlG3pF",
    "outputId": "b18bfe07-3157-411c-af44-f74381abbe83"
   },
   "outputs": [
    {
     "data": {
      "image/png": "[encoded data removed]",
      "text/plain": [
       "<Figure size 640x480 with 1 Axes>"
      ]
     },
     "metadata": {},
     "output_type": "display_data"
    }
   ],
   "source": [
    "plt.plot(n_values, regular_times, label='Regular Method')\n",
    "plt.plot(n_values, diagonal_times, label='Diagonalization Method')\n",
    "plt.xlabel('Exponent (n)')\n",
    "plt.ylabel('Time (s)')\n",
    "plt.legend()\n",
    "plt.title('Performance Comparison')\n",
    "plt.show()"
   ]
  },
  {
   "cell_type": "markdown",
   "metadata": {
    "id": "5kwiT2jIHGvK"
   },
   "source": [
    "<h3 style='color: green;'>Background: </h3>\n",
    "\n",
    "QR decomposition is a matrix factorization technique that decomposes a matrix\n",
    "𝐴\n",
    "into an orthogonal matrix\n",
    "𝑄\n",
    "and an upper triangular matrix\n",
    "𝑅\n",
    "R. The Gram-Schmidt process is a method for orthogonalizing a set of vectors in an inner product space, which forms the basis of this decomposition.\n",
    "\n",
    "<h3 style='color: green;'>Gram-Schmidt Process: </h3>\n",
    "\n",
    "A method to orthogonalize a set of vectors in an inner product space.\n",
    "\n",
    "<h3 style='color: green;'>Theory: </h3>\n",
    "\n",
    "Given a matrix\n",
    "$ 𝐴 ∈ 𝑅^{𝑚 × 𝑛} $ , QR decomposition aims to find an orthogonal matrix\n",
    "$ Q ∈ 𝑅^{𝑚 × 𝑛} $ and an upper triangular matrix  $ R ∈ 𝑅^{n × 𝑛} $ such that:\n",
    "$ A = Q R $\n",
    "\n",
    "**In the section below, implement QR decompostion step by step :**"
   ]
  },
  {
   "cell_type": "code",
   "execution_count": 1,
   "metadata": {
    "id": "sj-lMxxMHcat"
   },
   "outputs": [],
   "source": [
    "\n",
    "def gram_schmidt(A):\n",
    "    # TODO: define Q and R matrices with correct dimensions\n",
    "\n",
    "    # TODO: complete the loop\n",
    "    for i in range(n):\n",
    "        # TODO: orthogonalize and compute values for R matrix and Q matrix using dot product\n",
    "\n",
    "    # TODO: return Q and R matrices\n",
    "    return Q, R\n"
   ]
  },
  {
   "cell_type": "markdown",
   "metadata": {
    "id": "PkYIyxBmHfJ5"
   },
   "source": [
    "Now, let's check if the decompostion. No need to change the following cell."
   ]
  },
  {
   "cell_type": "code",
   "execution_count": 2,
   "metadata": {
    "colab": {
     "base_uri": "https://localhost:8080/"
    },
    "id": "Am892MuUHhFz",
    "outputId": "c3164dc2-4050-47dc-cd35-a67f5a146abc"
   },
   "outputs": [
    {
     "name": "stdout",
     "output_type": "stream",
     "text": [
      "Matrix A:\n",
      "[[0.04350007 0.19124236 0.58581771 0.41321088]\n",
      " [0.17845937 0.84492236 0.78041353 0.75141188]\n",
      " [0.6606907  0.90850294 0.39598713 0.03964248]\n",
      " [0.09908443 0.07418342 0.7310604  0.43952343]]\n",
      "\n",
      "Orthogonal matrix Q:\n",
      "[[ 0.06278237  0.20382948  0.48703393 -0.84694148]\n",
      " [ 0.25756515  0.93722911 -0.01782446  0.23440151]\n",
      " [ 0.95355543 -0.24547388 -0.15609728 -0.07815536]\n",
      " [ 0.14300564 -0.14070431  0.85913554  0.47078425]]\n",
      "\n",
      "Upper triangular matrix R:\n",
      "[[0.69287079 1.10654576 0.71992779 0.32013551]\n",
      " [0.         0.597415   0.65076536 0.71689562]\n",
      " [0.         0.         0.83767011 0.55927632]\n",
      " [0.         0.         0.         0.02998908]]\n",
      "\n",
      "Check A = QR: True\n",
      "\n",
      "Check Q^T Q = I: True\n"
     ]
    }
   ],
   "source": [
    "def test_QR_decomposition():\n",
    "    A = np.random.random((4, 4))\n",
    "    Q, R = gram_schmidt(A)\n",
    "    print(\"Matrix A:\")\n",
    "    print(A)\n",
    "    print(\"\\nOrthogonal matrix Q:\")\n",
    "    print(Q)\n",
    "    print(\"\\nUpper triangular matrix R:\")\n",
    "    print(R)\n",
    "    print(f\"\\nCheck A = QR: {np.allclose(A, np.dot(Q, R))}\")\n",
    "    print(f\"\\nCheck Q^T Q = I: {np.allclose(np.dot(Q.T, Q), np.eye(Q.shape[1]))}\")\n",
    "\n",
    "test_QR_decomposition()"
   ]
  },
  {
   "cell_type": "markdown",
   "metadata": {
    "id": "-owPtKScHjlA"
   },
   "source": [
    "In this section, we will implement [Househodler reflection](https://en.wikipedia.org/wiki/Householder_transformation) method to compute QR decomposition.\n",
    "\n",
    "<h3 style='color: green;'>Concept of Householder Reflections: </h3>\n",
    "\n",
    "Householder reflections are used to zero out specific elements of a vector or matrix. A Householder reflection is defined by a vector\n",
    "𝑣 and it generates a matrix  𝐻 such that:\n",
    "$$ 𝐻 = 𝐼 − 2𝑣𝑣^𝑇 $$\n",
    "where  𝑣 is a unit vector. This transformation is used to reflect a vector about a plane or hyperplane. When applied to a vector, it can zero out all elements below the first one, which is useful for transforming a matrix into an upper triangular form.\n",
    "\n",
    "<h3 style='color: green;'>Using Householder Reflections for QR Decomposition: </h3>\n",
    "\n",
    "The goal is to decompose a matrix\n",
    "𝐴 into an orthogonal matrix 𝑄 and an upper triangular matrix 𝑅. Householder reflections are used to systematically zero out the sub-diagonal elements of\n",
    "𝐴 transforming it into\n",
    "𝑅. The orthogonal matrix\n",
    "𝑄 is the product of all Householder matrices used in the process."
   ]
  },
  {
   "cell_type": "code",
   "execution_count": 3,
   "metadata": {
    "id": "YQY0Q_R1HlaK"
   },
   "outputs": [],
   "source": [
    "def householder_reflection(a):\n",
    "    # TODO: compute H and return it from vector a\n",
    "\n",
    "    # TODO: return H\n",
    "\n",
    "\n",
    "def qr_householder(A):\n",
    "    # TODO: use householder_reflection on R matrix step by step and update Q and R by rules R <- HR and Q <- HQ\n",
    "\n",
    "\n",
    "    for i in range(min(m, n)):\n",
    "        # TODO: Create the Householder reflection matrix for column i\n",
    "\n",
    "        # TODO: Apply the Householder transformation to R\n",
    "\n",
    "        # TODO: Accumulate the transformations in Q\n",
    "\n",
    "    # TODO: return Q and R\n"
   ]
  },
  {
   "cell_type": "markdown",
   "metadata": {
    "id": "jl--0YygHoHu"
   },
   "source": [
    "Now, let's check if the decompostion.\n"
   ]
  },
  {
   "cell_type": "code",
   "execution_count": 4,
   "metadata": {
    "colab": {
     "base_uri": "https://localhost:8080/"
    },
    "id": "ALYaP8uhHovM",
    "outputId": "e91edd8e-e4c4-46e5-8568-29e4517efb8f"
   },
   "outputs": [
    {
     "name": "stdout",
     "output_type": "stream",
     "text": [
      "Matrix A:\n",
      "[[0.89793143 0.05386904 0.81847231 0.71359411]\n",
      " [0.956407   0.33860324 0.41678643 0.08491901]\n",
      " [0.92651191 0.60834785 0.69557629 0.04151509]\n",
      " [0.27022105 0.28876604 0.71443834 0.95347337]]\n",
      "\n",
      "Orthogonal matrix Q:\n",
      "[[ 0.55134124 -0.67554721  0.41724488 -0.25605763]\n",
      " [ 0.58724597 -0.06298763 -0.47977705  0.64883642]\n",
      " [ 0.56889001  0.59343873 -0.13095955 -0.55411572]\n",
      " [ 0.16591914  0.43301154  0.76063808  0.45431438]]\n",
      "\n",
      "Upper triangular matrix R:\n",
      "[[ 1.628631    0.62253844  1.21025909  0.6251192 ]\n",
      " [ 0.          0.42833731  0.14297288 -0.04991372]\n",
      " [ 0.          0.          0.59387546  0.97681265]\n",
      " [ 0.          0.          0.          0.28254983]]\n",
      "\n",
      "Check A = QR: True\n",
      "\n",
      "Check Q^T Q = I: True\n"
     ]
    }
   ],
   "source": [
    "test_QR_decomposition()"
   ]
  },
  {
   "cell_type": "markdown",
   "metadata": {
    "id": "GKPR8aUzHsZt"
   },
   "source": [
    "<h3 style='color: green;'> Calculating Eigenvalues Using QR Decomposition </h3>\n",
    "\n",
    "Eigenvalues and eigenvectors are fundamental concepts in linear algebra, playing a crucial role in various mathematical and scientific applications. One efficient method to compute eigenvalues of a matrix is through QR decomposition. In this section, we will use QR decomposition to estimate eigenvalues and eigenvectors.\n",
    "\n",
    "The QR algorithm utilizes QR decomposition iteratively to approximate eigenvalues of $ A $. Here’s a step-by-step outline of how this process works:\n",
    "\n",
    "1. **Initial Setup:**\n",
    "   - Start with a square matrix $ A $.\n",
    "\n",
    "2. **QR Decomposition Iteration:**\n",
    "   - Decompose $ A $ into $ Q $ and R such that:\n",
    "\n",
    "     $$ A^{(0)} = Q^{(0)} R^{(0)} $$\n",
    "\n",
    "   - Update $ A $ iteratively:\n",
    "\n",
    "     $$ A^{(k)} = R^{(k-1)} Q^{(k-1)} $$\n",
    "   - Convergence is typically checked by ensuring $ A^{(k)} $ becomes increasingly upper triangular or converges to a diagonal matrix.\n",
    "\n",
    "3. **Extracting Eigenvalues:**\n",
    "   - After convergence, the diagonal elements of the upper triangular matrix $ A^{(k)} $ are the eigenvalues of $ A $."
   ]
  },
  {
   "cell_type": "code",
   "execution_count": 5,
   "metadata": {
    "id": "v7RBDvXKHuAf"
   },
   "outputs": [],
   "source": [
    "def qr_algorithm(A, num_iterations=100000, tol=1e-10):\n",
    "    # TODO: copy A matrix\n",
    "\n",
    "    # TODO: complete the loop\n",
    "    for _ in range(num_iterations):\n",
    "        # TODO: update matrices\n",
    "\n",
    "        # TODO: Check for convergence and break condition\n",
    "\n",
    "    # TODO: return eigenvalues and Q_total\n",
    "\n",
    "def compute_eigenvectors(A, eigenvalues):\n",
    "    # TODO: compute and return eigenvectors of A having set of eigenvalues\n"
   ]
  },
  {
   "cell_type": "markdown",
   "metadata": {
    "id": "_uy-zBLoHzC4"
   },
   "source": [
    "Let's verify our results. no need to change the following cell."
   ]
  },
  {
   "cell_type": "code",
   "execution_count": 6,
   "metadata": {
    "colab": {
     "base_uri": "https://localhost:8080/"
    },
    "id": "q4Gxnb1sHwH7",
    "outputId": "355a77f4-ae7a-4dfc-c8df-e84f9fe441bc"
   },
   "outputs": [
    {
     "name": "stdout",
     "output_type": "stream",
     "text": [
      "Matrix A:\n",
      "[[0.17329408 0.21392595 0.55738785 0.35905649]\n",
      " [0.13325936 0.87523497 0.46010941 0.41479893]\n",
      " [0.9084968  0.56538254 0.0188598  0.04505046]\n",
      " [0.07242047 0.02040112 0.95664339 0.85446422]]\n",
      "\n",
      "Eigenvalues (QR Algorithm):\n",
      "[ 1.66933834 -0.46877992  0.41134312  0.30995153]\n",
      "\n",
      "Eigenvectors (QR Algorithm):\n",
      "[[ 0.37963153  0.34619381 -0.02891571 -0.05469119]\n",
      " [ 0.60270935  0.06337006  0.37987496 -0.22414097]\n",
      " [ 0.43055789 -0.767896    0.38373259 -0.47457366]\n",
      " [ 0.55429346  0.53522874 -0.84119451  0.84944072]]\n",
      "\n",
      "Verification (A @ eigenvectors - eigenvectors @ np.diag(eigenvalues)):\n",
      "True\n",
      "\n",
      "Eigenvalues (NumPy):\n",
      "[ 1.66933834 -0.46877992  0.30995153  0.41134312]\n",
      "\n",
      "Eigenvectors (NumPy):\n",
      "[[ 0.37963153  0.34619381 -0.05469119  0.02891571]\n",
      " [ 0.60270935  0.06337006 -0.22414097 -0.37987496]\n",
      " [ 0.43055789 -0.767896   -0.47457366 -0.38373259]\n",
      " [ 0.55429346  0.53522874  0.84944072  0.84119451]]\n",
      "\n",
      "Verification with NumPy (Eigenvalues):\n",
      "True\n"
     ]
    }
   ],
   "source": [
    "def test_qr_algorithm():\n",
    "    A = np.random.random((4,4))\n",
    "    eigenvalues, Q_total = qr_algorithm(A)\n",
    "\n",
    "    eigenvectors = compute_eigenvectors(A, eigenvalues)\n",
    "    print(\"Matrix A:\")\n",
    "    print(A)\n",
    "    print(\"\\nEigenvalues (QR Algorithm):\")\n",
    "    print(eigenvalues)\n",
    "    print(\"\\nEigenvectors (QR Algorithm):\")\n",
    "    print(eigenvectors)\n",
    "\n",
    "    # Verify the results\n",
    "    print(\"\\nVerification (A @ eigenvectors - eigenvectors @ np.diag(eigenvalues)):\")\n",
    "    print(np.allclose(A @ eigenvectors, eigenvectors @ np.diag(eigenvalues)))\n",
    "\n",
    "    # Compare with NumPy's eig function\n",
    "    np_eigenvalues, np_eigenvectors = np.linalg.eig(A)\n",
    "    np_eigenvalues = np_eigenvalues.real\n",
    "\n",
    "    print(\"\\nEigenvalues (NumPy):\")\n",
    "    print(np_eigenvalues)\n",
    "\n",
    "    print(\"\\nEigenvectors (NumPy):\")\n",
    "    print(np_eigenvectors)\n",
    "\n",
    "    print(\"\\nVerification with NumPy (Eigenvalues):\")\n",
    "    print(np.allclose(np.sort(eigenvalues), np.sort(np_eigenvalues)))\n",
    "\n",
    "test_qr_algorithm()"
   ]
  },
  {
   "cell_type": "markdown",
   "metadata": {
    "id": "e0DYHfIhH4Jo"
   },
   "source": [
    "<h3 style='color: green;'> Conclusion: </h3>\n",
    "\n",
    "\n",
    "QR decomposition offers a powerful method for computing eigenvalues numerically. Its iterative nature makes it suitable for matrices of varying sizes and complexities, providing a robust approach to solving eigenvalue problems in practice.\n"
   ]
  }
 ],
 "metadata": {
  "colab": {
   "provenance": []
  },
  "kernelspec": {
   "display_name": "Python 3 (ipykernel)",
   "language": "python",
   "name": "python3"
  },
  "language_info": {
   "codemirror_mode": {
    "name": "ipython",
    "version": 3
   },
   "file_extension": ".py",
   "mimetype": "text/x-python",
   "name": "python",
   "nbconvert_exporter": "python",
   "pygments_lexer": "ipython3",
   "version": "3.9.13"
  }
 },
 "nbformat": 4,
 "nbformat_minor": 1
}
